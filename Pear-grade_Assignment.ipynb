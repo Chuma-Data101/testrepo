{
 "cells": [
  {
   "cell_type": "markdown",
   "metadata": {},
   "source": [
    "<center>\n",
    "    <img src=\"https://s3-api.us-geo.objectstorage.softlayer.net/cf-courses-data/CognitiveClass/Logos/organization_logo/organization_logo.png\" width=\"300\" alt=\"cognitiveclass.ai logo\"  />\n",
    "</center>\n"
   ]
  },
  {
   "cell_type": "markdown",
   "metadata": {},
   "source": [
    "#### Add your code below following the instructions given in the course\n"
   ]
  },
  {
   "cell_type": "markdown",
   "metadata": {
    "tags": []
   },
   "source": [
    "# My Jupyter Notebook on IBM Watson studio"
   ]
  },
  {
   "cell_type": "markdown",
   "metadata": {},
   "source": [
    "## CHUMA \n",
    "i am data anlyst and desired position in quantitattive analyst"
   ]
  },
  {
   "cell_type": "markdown",
   "metadata": {},
   "source": [
    "# _Data _science _is _fun"
   ]
  },
  {
   "cell_type": "markdown",
   "metadata": {},
   "source": [
    "### My code will print \"I love data science.\""
   ]
  },
  {
   "cell_type": "code",
   "execution_count": 2,
   "metadata": {},
   "outputs": [
    {
     "name": "stdout",
     "output_type": "stream",
     "text": [
      "I love data science.\n"
     ]
    }
   ],
   "source": [
    "print(\"I love data science.\")"
   ]
  },
  {
   "cell_type": "markdown",
   "metadata": {},
   "source": [
    "----\n",
    "----\n",
    "----\n",
    "\n",
    "***\n",
    "***\n",
    "***\n",
    "\n",
    "1. Item\n",
    "2. Item\n",
    "\n",
    "\n",
    "|syntax |Description|\n",
    "|-------|-----------|\n",
    "|Header |Title      |\n",
    "|       |           |\n",
    "|       |           | \n",
    "\n",
    "1. Open the file containing the chuma pic.\n",
    "\n",
    "    ![Tux, chuma pic](/assets/images/tux.png)\n",
    "\n",
    "3. Close the file.\n",
    "\n",
    "\n",
    "```\n",
    "  python\n",
    "def pythn (\n",
    "    print(\"chuma\")\n",
    "    \n",
    ")\n",
    "python()\n",
    "```\n",
    "\n",
    "> * BlockQuotes\n",
    "\n",
    "<strike>strike</strike>\n"
   ]
  },
  {
   "cell_type": "code",
   "execution_count": null,
   "metadata": {},
   "outputs": [],
   "source": []
  }
 ],
 "metadata": {
  "kernelspec": {
   "display_name": "Python",
   "language": "python",
   "name": "conda-env-python-py"
  },
  "language_info": {
   "codemirror_mode": {
    "name": "ipython",
    "version": 3
   },
   "file_extension": ".py",
   "mimetype": "text/x-python",
   "name": "python",
   "nbconvert_exporter": "python",
   "pygments_lexer": "ipython3",
   "version": "3.7.12"
  }
 },
 "nbformat": 4,
 "nbformat_minor": 4
}
